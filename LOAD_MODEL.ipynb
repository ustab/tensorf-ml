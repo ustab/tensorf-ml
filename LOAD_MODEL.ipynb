{
  "nbformat": 4,
  "nbformat_minor": 0,
  "metadata": {
    "colab": {
      "provenance": [],
      "collapsed_sections": [],
      "authorship_tag": "ABX9TyNbpUbjgt8iOv9GBdrKkBQk",
      "include_colab_link": true
    },
    "kernelspec": {
      "name": "python3",
      "display_name": "Python 3"
    },
    "language_info": {
      "name": "python"
    }
  },
  "cells": [
    {
      "cell_type": "markdown",
      "metadata": {
        "id": "view-in-github",
        "colab_type": "text"
      },
      "source": [
        "<a href=\"https://colab.research.google.com/github/ustab/tensorf-ml/blob/main/LOAD_MODEL.ipynb\" target=\"_parent\"><img src=\"https://colab.research.google.com/assets/colab-badge.svg\" alt=\"Open In Colab\"/></a>"
      ]
    },
    {
      "cell_type": "code",
      "execution_count": null,
      "metadata": {
        "id": "5eFYqekRW2dL"
      },
      "outputs": [],
      "source": [
        "#MODEL YUKLE VE SONRA KULLAN;"
      ]
    },
    {
      "cell_type": "code",
      "source": [
        "yenibisikletozellikleri=[[1750, 1879]]"
      ],
      "metadata": {
        "id": "dv9m1BRjcYoV"
      },
      "execution_count": null,
      "outputs": []
    },
    {
      "cell_type": "code",
      "source": [
        "yenibisikletozellikleri=scaler.transform(yenibisikletozellikleri)"
      ],
      "metadata": {
        "id": "Yoj9nobLcj31"
      },
      "execution_count": null,
      "outputs": []
    },
    {
      "cell_type": "code",
      "source": [
        "model.predict(yenibisikletozellikleri)"
      ],
      "metadata": {
        "id": "avy3gk_mdBEf"
      },
      "execution_count": null,
      "outputs": []
    },
    {
      "cell_type": "code",
      "source": [
        "from tensorflow.keras.models import load_model"
      ],
      "metadata": {
        "id": "FUrg_fTqdOwa"
      },
      "execution_count": null,
      "outputs": []
    },
    {
      "cell_type": "code",
      "source": [
        "model.save('bisiklet_modeli.h5')"
      ],
      "metadata": {
        "id": "iX5CVg39de5Z"
      },
      "execution_count": null,
      "outputs": []
    },
    {
      "cell_type": "code",
      "source": [
        "#sonradan cagiralim\n",
        "\n",
        "sonradancagirilanmodel=load_model('bisiklet_modeli.h5')"
      ],
      "metadata": {
        "id": "UqLMx0h4dt6k"
      },
      "execution_count": null,
      "outputs": []
    },
    {
      "cell_type": "code",
      "source": [
        "sonradancagirilanmodel.predict(yenibisikletozellikleri)"
      ],
      "metadata": {
        "id": "zYE6HtsgeHam"
      },
      "execution_count": null,
      "outputs": []
    }
  ]
}