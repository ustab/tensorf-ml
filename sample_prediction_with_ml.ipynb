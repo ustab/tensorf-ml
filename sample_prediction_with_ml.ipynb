{
  "cells": [
    {
      "cell_type": "markdown",
      "metadata": {
        "id": "view-in-github",
        "colab_type": "text"
      },
      "source": [
        "<a href=\"https://colab.research.google.com/github/ustab/tensorf-ml/blob/main/sample_prediction_with_ml.ipynb\" target=\"_parent\"><img src=\"https://colab.research.google.com/assets/colab-badge.svg\" alt=\"Open In Colab\"/></a>"
      ]
    },
    {
      "cell_type": "markdown",
      "id": "dabddfbe",
      "metadata": {
        "papermill": {
          "duration": 0.01009,
          "end_time": "2022-08-14T08:18:40.448942",
          "exception": false,
          "start_time": "2022-08-14T08:18:40.438852",
          "status": "completed"
        },
        "tags": [],
        "id": "dabddfbe"
      },
      "source": [
        "# Milk Quality Prediction\n",
        "\n",
        "Target\n",
        "\n",
        "Low (Bad)\n",
        "\n",
        "Medium (Moderate)\n",
        "\n",
        "High (Good)\n",
        "\n",
        "If Taste, Odor, Fat, and Turbidity are satisfied with optimal conditions then they will assign 1 otherwise 0."
      ]
    },
    {
      "cell_type": "markdown",
      "id": "f93e6023",
      "metadata": {
        "papermill": {
          "duration": 0.00818,
          "end_time": "2022-08-14T08:18:40.483561",
          "exception": false,
          "start_time": "2022-08-14T08:18:40.475381",
          "status": "completed"
        },
        "tags": [],
        "id": "f93e6023"
      },
      "source": [
        "## Imports"
      ]
    },
    {
      "cell_type": "code",
      "execution_count": 2,
      "id": "3d163a0d",
      "metadata": {
        "execution": {
          "iopub.execute_input": "2022-08-14T08:18:40.504418Z",
          "iopub.status.busy": "2022-08-14T08:18:40.503022Z",
          "iopub.status.idle": "2022-08-14T08:18:41.655887Z",
          "shell.execute_reply": "2022-08-14T08:18:41.654572Z"
        },
        "papermill": {
          "duration": 1.166986,
          "end_time": "2022-08-14T08:18:41.659100",
          "exception": false,
          "start_time": "2022-08-14T08:18:40.492114",
          "status": "completed"
        },
        "tags": [],
        "id": "3d163a0d"
      },
      "outputs": [],
      "source": [
        "#Importing necessary Libraries\n",
        "import numpy as np\n",
        "import pandas as pd\n",
        "\n",
        "import seaborn as sns\n",
        "import matplotlib.pyplot as plt\n",
        "\n",
        "import warnings\n",
        "warnings.filterwarnings(\"ignore\")"
      ]
    },
    {
      "cell_type": "markdown",
      "id": "6e0e40d0",
      "metadata": {
        "papermill": {
          "duration": 0.008607,
          "end_time": "2022-08-14T08:18:41.677147",
          "exception": false,
          "start_time": "2022-08-14T08:18:41.668540",
          "status": "completed"
        },
        "tags": [],
        "id": "6e0e40d0"
      },
      "source": [
        "## Loading the data"
      ]
    },
    {
      "cell_type": "code",
      "execution_count": 4,
      "id": "82defc67",
      "metadata": {
        "execution": {
          "iopub.execute_input": "2022-08-14T08:18:41.697008Z",
          "iopub.status.busy": "2022-08-14T08:18:41.696141Z",
          "iopub.status.idle": "2022-08-14T08:18:41.715115Z",
          "shell.execute_reply": "2022-08-14T08:18:41.714209Z"
        },
        "papermill": {
          "duration": 0.031994,
          "end_time": "2022-08-14T08:18:41.717830",
          "exception": false,
          "start_time": "2022-08-14T08:18:41.685836",
          "status": "completed"
        },
        "tags": [],
        "id": "82defc67"
      },
      "outputs": [],
      "source": [
        "df = pd.read_csv(r'/content/milknew.csv')"
      ]
    },
    {
      "cell_type": "markdown",
      "id": "082cea6a",
      "metadata": {
        "papermill": {
          "duration": 0.008536,
          "end_time": "2022-08-14T08:18:41.735464",
          "exception": false,
          "start_time": "2022-08-14T08:18:41.726928",
          "status": "completed"
        },
        "tags": [],
        "id": "082cea6a"
      },
      "source": [
        "## Data pre-processing and EDA"
      ]
    },
    {
      "cell_type": "code",
      "execution_count": 5,
      "id": "2d63a0d4",
      "metadata": {
        "execution": {
          "iopub.execute_input": "2022-08-14T08:18:41.756591Z",
          "iopub.status.busy": "2022-08-14T08:18:41.755717Z",
          "iopub.status.idle": "2022-08-14T08:18:41.779134Z",
          "shell.execute_reply": "2022-08-14T08:18:41.777956Z"
        },
        "papermill": {
          "duration": 0.036937,
          "end_time": "2022-08-14T08:18:41.782256",
          "exception": false,
          "start_time": "2022-08-14T08:18:41.745319",
          "status": "completed"
        },
        "tags": [],
        "colab": {
          "base_uri": "https://localhost:8080/",
          "height": 206
        },
        "id": "2d63a0d4",
        "outputId": "19a51e75-85aa-4cd6-a3c1-3fecb7ae5193"
      },
      "outputs": [
        {
          "output_type": "execute_result",
          "data": {
            "text/plain": [
              "    pH  Temprature  Taste  Odor  Fat   Turbidity  Colour   Grade\n",
              "0  6.6          35      1     0     1          0     254    high\n",
              "1  6.6          36      0     1     0          1     253    high\n",
              "2  8.5          70      1     1     1          1     246     low\n",
              "3  9.5          34      1     1     0          1     255     low\n",
              "4  6.6          37      0     0     0          0     255  medium"
            ],
            "text/html": [
              "\n",
              "  <div id=\"df-edb879bf-26d6-4a12-a807-25b6f9abcad5\">\n",
              "    <div class=\"colab-df-container\">\n",
              "      <div>\n",
              "<style scoped>\n",
              "    .dataframe tbody tr th:only-of-type {\n",
              "        vertical-align: middle;\n",
              "    }\n",
              "\n",
              "    .dataframe tbody tr th {\n",
              "        vertical-align: top;\n",
              "    }\n",
              "\n",
              "    .dataframe thead th {\n",
              "        text-align: right;\n",
              "    }\n",
              "</style>\n",
              "<table border=\"1\" class=\"dataframe\">\n",
              "  <thead>\n",
              "    <tr style=\"text-align: right;\">\n",
              "      <th></th>\n",
              "      <th>pH</th>\n",
              "      <th>Temprature</th>\n",
              "      <th>Taste</th>\n",
              "      <th>Odor</th>\n",
              "      <th>Fat</th>\n",
              "      <th>Turbidity</th>\n",
              "      <th>Colour</th>\n",
              "      <th>Grade</th>\n",
              "    </tr>\n",
              "  </thead>\n",
              "  <tbody>\n",
              "    <tr>\n",
              "      <th>0</th>\n",
              "      <td>6.6</td>\n",
              "      <td>35</td>\n",
              "      <td>1</td>\n",
              "      <td>0</td>\n",
              "      <td>1</td>\n",
              "      <td>0</td>\n",
              "      <td>254</td>\n",
              "      <td>high</td>\n",
              "    </tr>\n",
              "    <tr>\n",
              "      <th>1</th>\n",
              "      <td>6.6</td>\n",
              "      <td>36</td>\n",
              "      <td>0</td>\n",
              "      <td>1</td>\n",
              "      <td>0</td>\n",
              "      <td>1</td>\n",
              "      <td>253</td>\n",
              "      <td>high</td>\n",
              "    </tr>\n",
              "    <tr>\n",
              "      <th>2</th>\n",
              "      <td>8.5</td>\n",
              "      <td>70</td>\n",
              "      <td>1</td>\n",
              "      <td>1</td>\n",
              "      <td>1</td>\n",
              "      <td>1</td>\n",
              "      <td>246</td>\n",
              "      <td>low</td>\n",
              "    </tr>\n",
              "    <tr>\n",
              "      <th>3</th>\n",
              "      <td>9.5</td>\n",
              "      <td>34</td>\n",
              "      <td>1</td>\n",
              "      <td>1</td>\n",
              "      <td>0</td>\n",
              "      <td>1</td>\n",
              "      <td>255</td>\n",
              "      <td>low</td>\n",
              "    </tr>\n",
              "    <tr>\n",
              "      <th>4</th>\n",
              "      <td>6.6</td>\n",
              "      <td>37</td>\n",
              "      <td>0</td>\n",
              "      <td>0</td>\n",
              "      <td>0</td>\n",
              "      <td>0</td>\n",
              "      <td>255</td>\n",
              "      <td>medium</td>\n",
              "    </tr>\n",
              "  </tbody>\n",
              "</table>\n",
              "</div>\n",
              "      <button class=\"colab-df-convert\" onclick=\"convertToInteractive('df-edb879bf-26d6-4a12-a807-25b6f9abcad5')\"\n",
              "              title=\"Convert this dataframe to an interactive table.\"\n",
              "              style=\"display:none;\">\n",
              "        \n",
              "  <svg xmlns=\"http://www.w3.org/2000/svg\" height=\"24px\"viewBox=\"0 0 24 24\"\n",
              "       width=\"24px\">\n",
              "    <path d=\"M0 0h24v24H0V0z\" fill=\"none\"/>\n",
              "    <path d=\"M18.56 5.44l.94 2.06.94-2.06 2.06-.94-2.06-.94-.94-2.06-.94 2.06-2.06.94zm-11 1L8.5 8.5l.94-2.06 2.06-.94-2.06-.94L8.5 2.5l-.94 2.06-2.06.94zm10 10l.94 2.06.94-2.06 2.06-.94-2.06-.94-.94-2.06-.94 2.06-2.06.94z\"/><path d=\"M17.41 7.96l-1.37-1.37c-.4-.4-.92-.59-1.43-.59-.52 0-1.04.2-1.43.59L10.3 9.45l-7.72 7.72c-.78.78-.78 2.05 0 2.83L4 21.41c.39.39.9.59 1.41.59.51 0 1.02-.2 1.41-.59l7.78-7.78 2.81-2.81c.8-.78.8-2.07 0-2.86zM5.41 20L4 18.59l7.72-7.72 1.47 1.35L5.41 20z\"/>\n",
              "  </svg>\n",
              "      </button>\n",
              "      \n",
              "  <style>\n",
              "    .colab-df-container {\n",
              "      display:flex;\n",
              "      flex-wrap:wrap;\n",
              "      gap: 12px;\n",
              "    }\n",
              "\n",
              "    .colab-df-convert {\n",
              "      background-color: #E8F0FE;\n",
              "      border: none;\n",
              "      border-radius: 50%;\n",
              "      cursor: pointer;\n",
              "      display: none;\n",
              "      fill: #1967D2;\n",
              "      height: 32px;\n",
              "      padding: 0 0 0 0;\n",
              "      width: 32px;\n",
              "    }\n",
              "\n",
              "    .colab-df-convert:hover {\n",
              "      background-color: #E2EBFA;\n",
              "      box-shadow: 0px 1px 2px rgba(60, 64, 67, 0.3), 0px 1px 3px 1px rgba(60, 64, 67, 0.15);\n",
              "      fill: #174EA6;\n",
              "    }\n",
              "\n",
              "    [theme=dark] .colab-df-convert {\n",
              "      background-color: #3B4455;\n",
              "      fill: #D2E3FC;\n",
              "    }\n",
              "\n",
              "    [theme=dark] .colab-df-convert:hover {\n",
              "      background-color: #434B5C;\n",
              "      box-shadow: 0px 1px 3px 1px rgba(0, 0, 0, 0.15);\n",
              "      filter: drop-shadow(0px 1px 2px rgba(0, 0, 0, 0.3));\n",
              "      fill: #FFFFFF;\n",
              "    }\n",
              "  </style>\n",
              "\n",
              "      <script>\n",
              "        const buttonEl =\n",
              "          document.querySelector('#df-edb879bf-26d6-4a12-a807-25b6f9abcad5 button.colab-df-convert');\n",
              "        buttonEl.style.display =\n",
              "          google.colab.kernel.accessAllowed ? 'block' : 'none';\n",
              "\n",
              "        async function convertToInteractive(key) {\n",
              "          const element = document.querySelector('#df-edb879bf-26d6-4a12-a807-25b6f9abcad5');\n",
              "          const dataTable =\n",
              "            await google.colab.kernel.invokeFunction('convertToInteractive',\n",
              "                                                     [key], {});\n",
              "          if (!dataTable) return;\n",
              "\n",
              "          const docLinkHtml = 'Like what you see? Visit the ' +\n",
              "            '<a target=\"_blank\" href=https://colab.research.google.com/notebooks/data_table.ipynb>data table notebook</a>'\n",
              "            + ' to learn more about interactive tables.';\n",
              "          element.innerHTML = '';\n",
              "          dataTable['output_type'] = 'display_data';\n",
              "          await google.colab.output.renderOutput(dataTable, element);\n",
              "          const docLink = document.createElement('div');\n",
              "          docLink.innerHTML = docLinkHtml;\n",
              "          element.appendChild(docLink);\n",
              "        }\n",
              "      </script>\n",
              "    </div>\n",
              "  </div>\n",
              "  "
            ]
          },
          "metadata": {},
          "execution_count": 5
        }
      ],
      "source": [
        "df.head()"
      ]
    },
    {
      "cell_type": "code",
      "execution_count": 6,
      "id": "19f79bbf",
      "metadata": {
        "execution": {
          "iopub.execute_input": "2022-08-14T08:18:41.802507Z",
          "iopub.status.busy": "2022-08-14T08:18:41.801890Z",
          "iopub.status.idle": "2022-08-14T08:18:41.827544Z",
          "shell.execute_reply": "2022-08-14T08:18:41.825664Z"
        },
        "papermill": {
          "duration": 0.038534,
          "end_time": "2022-08-14T08:18:41.830036",
          "exception": false,
          "start_time": "2022-08-14T08:18:41.791502",
          "status": "completed"
        },
        "tags": [],
        "colab": {
          "base_uri": "https://localhost:8080/"
        },
        "id": "19f79bbf",
        "outputId": "22aeb1fb-d7eb-4c41-c956-e87bf8a8e9dc"
      },
      "outputs": [
        {
          "output_type": "stream",
          "name": "stdout",
          "text": [
            "<class 'pandas.core.frame.DataFrame'>\n",
            "RangeIndex: 1059 entries, 0 to 1058\n",
            "Data columns (total 8 columns):\n",
            " #   Column      Non-Null Count  Dtype  \n",
            "---  ------      --------------  -----  \n",
            " 0   pH          1059 non-null   float64\n",
            " 1   Temprature  1059 non-null   int64  \n",
            " 2   Taste       1059 non-null   int64  \n",
            " 3   Odor        1059 non-null   int64  \n",
            " 4   Fat         1059 non-null   int64  \n",
            " 5   Turbidity   1059 non-null   int64  \n",
            " 6   Colour      1059 non-null   int64  \n",
            " 7   Grade       1059 non-null   object \n",
            "dtypes: float64(1), int64(6), object(1)\n",
            "memory usage: 66.3+ KB\n"
          ]
        }
      ],
      "source": [
        "df.info()"
      ]
    },
    {
      "cell_type": "code",
      "execution_count": 7,
      "id": "d471bb91",
      "metadata": {
        "execution": {
          "iopub.execute_input": "2022-08-14T08:18:41.851213Z",
          "iopub.status.busy": "2022-08-14T08:18:41.849856Z",
          "iopub.status.idle": "2022-08-14T08:18:41.857253Z",
          "shell.execute_reply": "2022-08-14T08:18:41.856398Z"
        },
        "papermill": {
          "duration": 0.020222,
          "end_time": "2022-08-14T08:18:41.859291",
          "exception": false,
          "start_time": "2022-08-14T08:18:41.839069",
          "status": "completed"
        },
        "tags": [],
        "colab": {
          "base_uri": "https://localhost:8080/"
        },
        "id": "d471bb91",
        "outputId": "29c84b78-3996-48c4-a356-11d164111caf"
      },
      "outputs": [
        {
          "output_type": "execute_result",
          "data": {
            "text/plain": [
              "(1059, 8)"
            ]
          },
          "metadata": {},
          "execution_count": 7
        }
      ],
      "source": [
        "df.shape"
      ]
    },
    {
      "cell_type": "code",
      "execution_count": 8,
      "id": "f3ac979f",
      "metadata": {
        "execution": {
          "iopub.execute_input": "2022-08-14T08:18:41.879768Z",
          "iopub.status.busy": "2022-08-14T08:18:41.879114Z",
          "iopub.status.idle": "2022-08-14T08:18:41.885623Z",
          "shell.execute_reply": "2022-08-14T08:18:41.884700Z"
        },
        "papermill": {
          "duration": 0.019255,
          "end_time": "2022-08-14T08:18:41.887679",
          "exception": false,
          "start_time": "2022-08-14T08:18:41.868424",
          "status": "completed"
        },
        "tags": [],
        "colab": {
          "base_uri": "https://localhost:8080/"
        },
        "id": "f3ac979f",
        "outputId": "ea7af6e5-c3ed-41ce-c259-2ec891dd8197"
      },
      "outputs": [
        {
          "output_type": "execute_result",
          "data": {
            "text/plain": [
              "Index(['pH', 'Temprature', 'Taste', 'Odor', 'Fat ', 'Turbidity', 'Colour',\n",
              "       'Grade'],\n",
              "      dtype='object')"
            ]
          },
          "metadata": {},
          "execution_count": 8
        }
      ],
      "source": [
        "df.columns"
      ]
    },
    {
      "cell_type": "code",
      "execution_count": 9,
      "id": "d77660fd",
      "metadata": {
        "execution": {
          "iopub.execute_input": "2022-08-14T08:18:41.926381Z",
          "iopub.status.busy": "2022-08-14T08:18:41.925553Z",
          "iopub.status.idle": "2022-08-14T08:18:42.149778Z",
          "shell.execute_reply": "2022-08-14T08:18:42.148828Z"
        },
        "papermill": {
          "duration": 0.23706,
          "end_time": "2022-08-14T08:18:42.151922",
          "exception": false,
          "start_time": "2022-08-14T08:18:41.914862",
          "status": "completed"
        },
        "tags": [],
        "colab": {
          "base_uri": "https://localhost:8080/",
          "height": 448
        },
        "id": "d77660fd",
        "outputId": "32b20109-4c85-4ef7-982e-75a04aeae2e6"
      },
      "outputs": [
        {
          "output_type": "execute_result",
          "data": {
            "text/plain": [
              "Text(0.5, 1.0, 'Grade v/s colour')"
            ]
          },
          "metadata": {},
          "execution_count": 9
        },
        {
          "output_type": "display_data",
          "data": {
            "text/plain": [
              "<Figure size 864x432 with 1 Axes>"
            ],
            "image/png": "[encoded data removed]"
          },
          "metadata": {
            "needs_background": "light"
          }
        }
      ],
      "source": [
        "plt.figure(figsize = (12, 6))\n",
        "ax = sns.boxplot(x='Grade', y='Colour', data=df)\n",
        "plt.setp(ax.artists, alpha=.5, linewidth=2, edgecolor=\"k\")\n",
        "plt.xticks(rotation=45)\n",
        "plt.title('Grade v/s colour')"
      ]
    },
    {
      "cell_type": "code",
      "execution_count": 10,
      "id": "7cee3b67",
      "metadata": {
        "execution": {
          "iopub.execute_input": "2022-08-14T08:18:42.173654Z",
          "iopub.status.busy": "2022-08-14T08:18:42.172433Z",
          "iopub.status.idle": "2022-08-14T08:18:42.339107Z",
          "shell.execute_reply": "2022-08-14T08:18:42.338187Z"
        },
        "papermill": {
          "duration": 0.179871,
          "end_time": "2022-08-14T08:18:42.341362",
          "exception": false,
          "start_time": "2022-08-14T08:18:42.161491",
          "status": "completed"
        },
        "tags": [],
        "colab": {
          "base_uri": "https://localhost:8080/",
          "height": 448
        },
        "id": "7cee3b67",
        "outputId": "8518102f-1a80-49df-c507-99db0e9f4318"
      },
      "outputs": [
        {
          "output_type": "execute_result",
          "data": {
            "text/plain": [
              "Text(0.5, 1.0, 'Grade v/s Turbidity')"
            ]
          },
          "metadata": {},
          "execution_count": 10
        },
        {
          "output_type": "display_data",
          "data": {
            "text/plain": [
              "<Figure size 864x432 with 1 Axes>"
            ],
            "image/png": "[encoded data removed]"
          },
          "metadata": {
            "needs_background": "light"
          }
        }
      ],
      "source": [
        "plt.figure(figsize = (12, 6))\n",
        "ax = sns.boxplot(x='Grade', y='Turbidity', data=df)\n",
        "plt.setp(ax.artists, alpha=.5, linewidth=2, edgecolor=\"k\")\n",
        "plt.xticks(rotation=45)\n",
        "plt.title('Grade v/s Turbidity')"
      ]
    },
    {
      "cell_type": "code",
      "execution_count": null,
      "id": "f5b608d5",
      "metadata": {
        "execution": {
          "iopub.execute_input": "2022-08-14T08:18:42.364906Z",
          "iopub.status.busy": "2022-08-14T08:18:42.363762Z",
          "iopub.status.idle": "2022-08-14T08:18:42.531357Z",
          "shell.execute_reply": "2022-08-14T08:18:42.530131Z"
        },
        "papermill": {
          "duration": 0.182419,
          "end_time": "2022-08-14T08:18:42.534411",
          "exception": false,
          "start_time": "2022-08-14T08:18:42.351992",
          "status": "completed"
        },
        "tags": [],
        "id": "f5b608d5",
        "outputId": "7788e05d-dcc7-4770-8767-195d37820c48"
      },
      "outputs": [
        {
          "data": {
            "text/plain": [
              "Text(0.5, 1.0, 'Grade v/s Fat ')"
            ]
          },
          "execution_count": 9,
          "metadata": {},
          "output_type": "execute_result"
        },
        {
          "data": {
            "image/png": "[encoded data removed]",
            "text/plain": [
              "<Figure size 864x432 with 1 Axes>"
            ]
          },
          "metadata": {
            "needs_background": "light"
          },
          "output_type": "display_data"
        }
      ],
      "source": [
        "plt.figure(figsize = (12, 6))\n",
        "ax = sns.boxplot(x='Grade', y='Fat ', data=df)\n",
        "plt.setp(ax.artists, alpha=.5, linewidth=2, edgecolor=\"k\")\n",
        "plt.xticks(rotation=45)\n",
        "plt.title('Grade v/s Fat ')"
      ]
    },
    {
      "cell_type": "code",
      "execution_count": 11,
      "id": "359a36ea",
      "metadata": {
        "execution": {
          "iopub.execute_input": "2022-08-14T08:18:42.560435Z",
          "iopub.status.busy": "2022-08-14T08:18:42.558426Z",
          "iopub.status.idle": "2022-08-14T08:18:42.727049Z",
          "shell.execute_reply": "2022-08-14T08:18:42.725694Z"
        },
        "papermill": {
          "duration": 0.185357,
          "end_time": "2022-08-14T08:18:42.730885",
          "exception": false,
          "start_time": "2022-08-14T08:18:42.545528",
          "status": "completed"
        },
        "tags": [],
        "colab": {
          "base_uri": "https://localhost:8080/",
          "height": 448
        },
        "id": "359a36ea",
        "outputId": "2b8ee040-10d6-4df8-809e-18d8299cec2f"
      },
      "outputs": [
        {
          "output_type": "execute_result",
          "data": {
            "text/plain": [
              "Text(0.5, 1.0, 'Grade v/s Odor')"
            ]
          },
          "metadata": {},
          "execution_count": 11
        },
        {
          "output_type": "display_data",
          "data": {
            "text/plain": [
              "<Figure size 864x432 with 1 Axes>"
            ],
            "image/png": "[encoded data removed]"
          },
          "metadata": {
            "needs_background": "light"
          }
        }
      ],
      "source": [
        "plt.figure(figsize = (12, 6))\n",
        "ax = sns.boxplot(x='Grade', y='Odor', data=df)\n",
        "plt.setp(ax.artists, alpha=.5, linewidth=2, edgecolor=\"k\")\n",
        "plt.xticks(rotation=45)\n",
        "plt.title('Grade v/s Odor')"
      ]
    },
    {
      "cell_type": "code",
      "execution_count": 12,
      "id": "355e8bbc",
      "metadata": {
        "execution": {
          "iopub.execute_input": "2022-08-14T08:18:42.756507Z",
          "iopub.status.busy": "2022-08-14T08:18:42.755570Z",
          "iopub.status.idle": "2022-08-14T08:18:42.922830Z",
          "shell.execute_reply": "2022-08-14T08:18:42.921843Z"
        },
        "papermill": {
          "duration": 0.183215,
          "end_time": "2022-08-14T08:18:42.925531",
          "exception": false,
          "start_time": "2022-08-14T08:18:42.742316",
          "status": "completed"
        },
        "tags": [],
        "colab": {
          "base_uri": "https://localhost:8080/",
          "height": 448
        },
        "id": "355e8bbc",
        "outputId": "6f2f0329-f601-4afb-dac9-759c76296357"
      },
      "outputs": [
        {
          "output_type": "execute_result",
          "data": {
            "text/plain": [
              "Text(0.5, 1.0, 'Grade v/s pH')"
            ]
          },
          "metadata": {},
          "execution_count": 12
        },
        {
          "output_type": "display_data",
          "data": {
            "text/plain": [
              "<Figure size 864x432 with 1 Axes>"
            ],
            "image/png": "[encoded data removed]"
          },
          "metadata": {
            "needs_background": "light"
          }
        }
      ],
      "source": [
        "plt.figure(figsize = (12, 6))\n",
        "ax = sns.boxplot(x='Grade', y='pH', data=df)\n",
        "plt.setp(ax.artists, alpha=.5, linewidth=2, edgecolor=\"k\")\n",
        "plt.xticks(rotation=45)\n",
        "plt.title('Grade v/s pH')"
      ]
    },
    {
      "cell_type": "code",
      "execution_count": 14,
      "id": "1ae77608",
      "metadata": {
        "execution": {
          "iopub.execute_input": "2022-08-14T08:18:42.953009Z",
          "iopub.status.busy": "2022-08-14T08:18:42.951734Z",
          "iopub.status.idle": "2022-08-14T08:18:52.992777Z",
          "shell.execute_reply": "2022-08-14T08:18:52.991702Z"
        },
        "papermill": {
          "duration": 10.057359,
          "end_time": "2022-08-14T08:18:52.994987",
          "exception": false,
          "start_time": "2022-08-14T08:18:42.937628",
          "status": "completed"
        },
        "tags": [],
        "colab": {
          "base_uri": "https://localhost:8080/",
          "height": 1000
        },
        "id": "1ae77608",
        "outputId": "2c2efb71-830b-4dd9-be22-af1933f3d5cd"
      },
      "outputs": [
        {
          "output_type": "execute_result",
          "data": {
            "text/plain": [
              "<seaborn.axisgrid.PairGrid at 0x7f74b533d690>"
            ]
          },
          "metadata": {},
          "execution_count": 14
        },
        {
          "output_type": "display_data",
          "data": {
            "text/plain": [
              "<Figure size 2520x2520 with 56 Axes>"
            ],
            "image/png": "[encoded data removed]"
          },
          "metadata": {
            "needs_background": "light"
          }
        }
      ],
      "source": [
        "sns.pairplot(df,height=5)"
      ]
    },
    {
      "cell_type": "markdown",
      "id": "2f8d2e42",
      "metadata": {
        "papermill": {
          "duration": 0.013106,
          "end_time": "2022-08-14T08:18:53.049791",
          "exception": false,
          "start_time": "2022-08-14T08:18:53.036685",
          "status": "completed"
        },
        "tags": [],
        "id": "2f8d2e42"
      },
      "source": [
        "## Preparing the data"
      ]
    },
    {
      "cell_type": "code",
      "execution_count": 15,
      "id": "20b2b649",
      "metadata": {
        "execution": {
          "iopub.execute_input": "2022-08-14T08:18:53.079027Z",
          "iopub.status.busy": "2022-08-14T08:18:53.077540Z",
          "iopub.status.idle": "2022-08-14T08:18:53.242201Z",
          "shell.execute_reply": "2022-08-14T08:18:53.241023Z"
        },
        "papermill": {
          "duration": 0.18145,
          "end_time": "2022-08-14T08:18:53.244415",
          "exception": false,
          "start_time": "2022-08-14T08:18:53.062965",
          "status": "completed"
        },
        "tags": [],
        "colab": {
          "base_uri": "https://localhost:8080/"
        },
        "id": "20b2b649",
        "outputId": "b207797d-5640-47be-9dd4-d636c17bb064"
      },
      "outputs": [
        {
          "output_type": "execute_result",
          "data": {
            "text/plain": [
              "array([0, 1, 2])"
            ]
          },
          "metadata": {},
          "execution_count": 15
        }
      ],
      "source": [
        "# Import label encoder\n",
        "from sklearn import preprocessing\n",
        "  \n",
        "# label_encoder object knows how to understand word labels.\n",
        "label_encoder = preprocessing.LabelEncoder()\n",
        "  \n",
        "# Encode labels in column 'species'.\n",
        "df['Grade']= label_encoder.fit_transform(df['Grade'])\n",
        "  \n",
        "df['Grade'].unique()"
      ]
    },
    {
      "cell_type": "code",
      "execution_count": 18,
      "id": "44133902",
      "metadata": {
        "execution": {
          "iopub.execute_input": "2022-08-14T08:18:53.274049Z",
          "iopub.status.busy": "2022-08-14T08:18:53.272461Z",
          "iopub.status.idle": "2022-08-14T08:18:53.669742Z",
          "shell.execute_reply": "2022-08-14T08:18:53.668387Z"
        },
        "papermill": {
          "duration": 0.414697,
          "end_time": "2022-08-14T08:18:53.672468",
          "exception": false,
          "start_time": "2022-08-14T08:18:53.257771",
          "status": "completed"
        },
        "tags": [],
        "colab": {
          "base_uri": "https://localhost:8080/",
          "height": 1000
        },
        "id": "44133902",
        "outputId": "8d530675-cb15-474c-8876-f44d3a253be6"
      },
      "outputs": [
        {
          "output_type": "display_data",
          "data": {
            "text/plain": [
              "<Figure size 1512x1368 with 2 Axes>"
            ],
            "image/png": "[encoded data removed]"
          },
          "metadata": {
            "needs_background": "light"
          }
        }
      ],
      "source": [
        "corr = df.corr() # We already examined SalePrice correlations\n",
        "plt.figure(figsize=(21, 19))\n",
        "\n",
        "sns.heatmap(corr[(corr >= 0.3) | (corr <= -0.3)], cmap='viridis', vmax=1.0, vmin=-1.0, linewidths=0.4,annot=True, annot_kws={\"size\": 8}, square=True);"
      ]
    },
    {
      "cell_type": "code",
      "execution_count": 19,
      "id": "4f4d4da2",
      "metadata": {
        "execution": {
          "iopub.execute_input": "2022-08-14T08:18:53.702877Z",
          "iopub.status.busy": "2022-08-14T08:18:53.702369Z",
          "iopub.status.idle": "2022-08-14T08:18:53.711306Z",
          "shell.execute_reply": "2022-08-14T08:18:53.710368Z"
        },
        "papermill": {
          "duration": 0.02708,
          "end_time": "2022-08-14T08:18:53.713563",
          "exception": false,
          "start_time": "2022-08-14T08:18:53.686483",
          "status": "completed"
        },
        "tags": [],
        "id": "4f4d4da2"
      },
      "outputs": [],
      "source": [
        "X = df[['pH', 'Temprature', 'Taste', 'Odor', 'Fat ', 'Turbidity', 'Colour']]\n",
        "y = df[['Grade']]"
      ]
    },
    {
      "cell_type": "code",
      "execution_count": 20,
      "id": "37913d2e",
      "metadata": {
        "execution": {
          "iopub.execute_input": "2022-08-14T08:18:53.743868Z",
          "iopub.status.busy": "2022-08-14T08:18:53.743218Z",
          "iopub.status.idle": "2022-08-14T08:18:53.818739Z",
          "shell.execute_reply": "2022-08-14T08:18:53.816699Z"
        },
        "papermill": {
          "duration": 0.095029,
          "end_time": "2022-08-14T08:18:53.822564",
          "exception": false,
          "start_time": "2022-08-14T08:18:53.727535",
          "status": "completed"
        },
        "tags": [],
        "colab": {
          "base_uri": "https://localhost:8080/"
        },
        "id": "37913d2e",
        "outputId": "39b3e0e1-da17-4958-f736-37de75dc8aac"
      },
      "outputs": [
        {
          "output_type": "stream",
          "name": "stdout",
          "text": [
            "(741, 7)\n",
            "(741, 1)\n",
            "(318, 7)\n",
            "(318, 1)\n"
          ]
        }
      ],
      "source": [
        "### Sandardization of data ###\n",
        "### We does not standardize the Target variable for classification\n",
        "from sklearn.preprocessing import StandardScaler\n",
        "PredictorScaler=StandardScaler()\n",
        " \n",
        "# Storing the fit object for later reference\n",
        "PredictorScalerFit=PredictorScaler.fit(X)\n",
        " \n",
        "# Generating the standardized values of X and y\n",
        "X=PredictorScalerFit.transform(X)\n",
        " \n",
        "# Split the data into training and testing set\n",
        "from sklearn.model_selection import train_test_split\n",
        "X_train, X_test, y_train, y_test = train_test_split(X, y, test_size=0.3, random_state=42)\n",
        " \n",
        "# Quick sanity check with the shapes of Training and Testing datasets\n",
        "print(X_train.shape)\n",
        "print(y_train.shape)\n",
        "print(X_test.shape)\n",
        "print(y_test.shape)"
      ]
    },
    {
      "cell_type": "markdown",
      "id": "e649adc2",
      "metadata": {
        "papermill": {
          "duration": 0.013659,
          "end_time": "2022-08-14T08:18:53.850976",
          "exception": false,
          "start_time": "2022-08-14T08:18:53.837317",
          "status": "completed"
        },
        "tags": [],
        "id": "e649adc2"
      },
      "source": [
        "# MODEL BUILDING"
      ]
    },
    {
      "cell_type": "markdown",
      "id": "979b1dde",
      "metadata": {
        "papermill": {
          "duration": 0.013386,
          "end_time": "2022-08-14T08:18:53.878212",
          "exception": false,
          "start_time": "2022-08-14T08:18:53.864826",
          "status": "completed"
        },
        "tags": [],
        "id": "979b1dde"
      },
      "source": [
        "# Decision tree classifier \n",
        "–A decision tree classifier is a systematic approach for multiclass classification. It poses a set of questions to the dataset (related to its attributes/features). The decision tree classification algorithm can be visualized on a binary tree. On the root and each of the internal nodes, a question is posed and the data on that node is further split into separate records that have different characteristics. The leaves of the tree refer to the classes in which the dataset is split."
      ]
    },
    {
      "cell_type": "code",
      "execution_count": 21,
      "id": "c4e7fb3b",
      "metadata": {
        "execution": {
          "iopub.execute_input": "2022-08-14T08:18:53.908536Z",
          "iopub.status.busy": "2022-08-14T08:18:53.907675Z",
          "iopub.status.idle": "2022-08-14T08:18:54.092287Z",
          "shell.execute_reply": "2022-08-14T08:18:54.090767Z"
        },
        "papermill": {
          "duration": 0.203469,
          "end_time": "2022-08-14T08:18:54.095431",
          "exception": false,
          "start_time": "2022-08-14T08:18:53.891962",
          "status": "completed"
        },
        "tags": [],
        "id": "c4e7fb3b"
      },
      "outputs": [],
      "source": [
        "# training a DescisionTreeClassifier\n",
        "from sklearn.tree import DecisionTreeClassifier\n",
        "from sklearn.metrics import confusion_matrix\n",
        "dtree_model = DecisionTreeClassifier(max_depth = 2).fit(X_train, y_train)\n",
        "dtree_predictions = dtree_model.predict(X_test)\n",
        "  \n",
        "# creating a confusion matrix\n",
        "cm = confusion_matrix(y_test, dtree_predictions)"
      ]
    },
    {
      "cell_type": "code",
      "execution_count": 22,
      "id": "f8067e34",
      "metadata": {
        "execution": {
          "iopub.execute_input": "2022-08-14T08:18:54.125483Z",
          "iopub.status.busy": "2022-08-14T08:18:54.125019Z",
          "iopub.status.idle": "2022-08-14T08:18:54.131073Z",
          "shell.execute_reply": "2022-08-14T08:18:54.129863Z"
        },
        "papermill": {
          "duration": 0.024183,
          "end_time": "2022-08-14T08:18:54.133535",
          "exception": false,
          "start_time": "2022-08-14T08:18:54.109352",
          "status": "completed"
        },
        "tags": [],
        "colab": {
          "base_uri": "https://localhost:8080/"
        },
        "id": "f8067e34",
        "outputId": "7b1ebc52-3b27-43df-8e1b-c3892bf6d0fb"
      },
      "outputs": [
        {
          "output_type": "stream",
          "name": "stdout",
          "text": [
            "[[  0   0  76]\n",
            " [  0  87  28]\n",
            " [  0   0 127]]\n"
          ]
        }
      ],
      "source": [
        "print(cm)"
      ]
    },
    {
      "cell_type": "markdown",
      "id": "13d65288",
      "metadata": {
        "papermill": {
          "duration": 0.013559,
          "end_time": "2022-08-14T08:18:54.161015",
          "exception": false,
          "start_time": "2022-08-14T08:18:54.147456",
          "status": "completed"
        },
        "tags": [],
        "id": "13d65288"
      },
      "source": [
        "# SVM (Support vector machine) classifier \n",
        "-SVM (Support vector machine) is an efficient classification method when the feature vector is high dimensional. In sci-kit learn, we can specify the kernel function (here, linear)."
      ]
    },
    {
      "cell_type": "code",
      "execution_count": 23,
      "id": "1131e21e",
      "metadata": {
        "execution": {
          "iopub.execute_input": "2022-08-14T08:18:54.192283Z",
          "iopub.status.busy": "2022-08-14T08:18:54.190915Z",
          "iopub.status.idle": "2022-08-14T08:18:54.218378Z",
          "shell.execute_reply": "2022-08-14T08:18:54.217022Z"
        },
        "papermill": {
          "duration": 0.046679,
          "end_time": "2022-08-14T08:18:54.221529",
          "exception": false,
          "start_time": "2022-08-14T08:18:54.174850",
          "status": "completed"
        },
        "tags": [],
        "id": "1131e21e"
      },
      "outputs": [],
      "source": [
        "# training a linear SVM classifier\n",
        "from sklearn.svm import SVC\n",
        "svm_model_linear = SVC(kernel = 'linear', C = 1).fit(X_train, y_train)\n",
        "svm_predictions = svm_model_linear.predict(X_test)\n",
        "  \n",
        "# model accuracy for X_test  \n",
        "accuracy = svm_model_linear.score(X_test, y_test)\n",
        "  \n",
        "# creating a confusion matrix\n",
        "cm = confusion_matrix(y_test, svm_predictions)"
      ]
    },
    {
      "cell_type": "code",
      "execution_count": 24,
      "id": "a0b959c4",
      "metadata": {
        "execution": {
          "iopub.execute_input": "2022-08-14T08:18:54.252302Z",
          "iopub.status.busy": "2022-08-14T08:18:54.251501Z",
          "iopub.status.idle": "2022-08-14T08:18:54.258080Z",
          "shell.execute_reply": "2022-08-14T08:18:54.256876Z"
        },
        "papermill": {
          "duration": 0.026354,
          "end_time": "2022-08-14T08:18:54.261869",
          "exception": false,
          "start_time": "2022-08-14T08:18:54.235515",
          "status": "completed"
        },
        "tags": [],
        "colab": {
          "base_uri": "https://localhost:8080/"
        },
        "id": "a0b959c4",
        "outputId": "5d6c4c3a-3a92-4e47-a243-f904c3916315"
      },
      "outputs": [
        {
          "output_type": "stream",
          "name": "stdout",
          "text": [
            "[[ 70   3   3]\n",
            " [ 15  98   2]\n",
            " [ 14   8 105]]\n"
          ]
        }
      ],
      "source": [
        "print(cm)"
      ]
    },
    {
      "cell_type": "markdown",
      "id": "a58e4638",
      "metadata": {
        "papermill": {
          "duration": 0.01392,
          "end_time": "2022-08-14T08:18:54.291348",
          "exception": false,
          "start_time": "2022-08-14T08:18:54.277428",
          "status": "completed"
        },
        "tags": [],
        "id": "a58e4638"
      },
      "source": [
        "# KNN (k-nearest neighbors) classifier \n",
        "– KNN or k-nearest neighbors is the simplest classification algorithm. This classification algorithm does not depend on the structure of the data. Whenever a new example is encountered, its k nearest neighbors from the training data are examined. Distance between two examples can be the euclidean distance between their feature vectors."
      ]
    },
    {
      "cell_type": "code",
      "execution_count": 25,
      "id": "b37e03c4",
      "metadata": {
        "execution": {
          "iopub.execute_input": "2022-08-14T08:18:54.322852Z",
          "iopub.status.busy": "2022-08-14T08:18:54.321879Z",
          "iopub.status.idle": "2022-08-14T08:18:54.358780Z",
          "shell.execute_reply": "2022-08-14T08:18:54.357157Z"
        },
        "papermill": {
          "duration": 0.056553,
          "end_time": "2022-08-14T08:18:54.362252",
          "exception": false,
          "start_time": "2022-08-14T08:18:54.305699",
          "status": "completed"
        },
        "tags": [],
        "colab": {
          "base_uri": "https://localhost:8080/"
        },
        "id": "b37e03c4",
        "outputId": "8ed8e89d-df39-4c66-a390-d52fc7c5d9d1"
      },
      "outputs": [
        {
          "output_type": "stream",
          "name": "stdout",
          "text": [
            "0.9685534591194969\n",
            "[[ 69   0   7]\n",
            " [  1 112   2]\n",
            " [  0   0 127]]\n"
          ]
        }
      ],
      "source": [
        "# training a KNN classifier\n",
        "from sklearn.neighbors import KNeighborsClassifier\n",
        "knn = KNeighborsClassifier(n_neighbors = 7).fit(X_train, y_train)\n",
        "  \n",
        "# accuracy on X_test\n",
        "accuracy = knn.score(X_test, y_test)\n",
        "print(accuracy)\n",
        "  \n",
        "# creating a confusion matrix\n",
        "knn_predictions = knn.predict(X_test) \n",
        "cm = confusion_matrix(y_test, knn_predictions)\n",
        "print(cm)"
      ]
    },
    {
      "cell_type": "markdown",
      "id": "ab5034bd",
      "metadata": {
        "papermill": {
          "duration": 0.014852,
          "end_time": "2022-08-14T08:18:54.392104",
          "exception": false,
          "start_time": "2022-08-14T08:18:54.377252",
          "status": "completed"
        },
        "tags": [],
        "id": "ab5034bd"
      },
      "source": [
        "# Naive Bayes classifier \n",
        "– Naive Bayes classification method is based on Bayes’ theorem. It is termed as ‘Naive’ because it assumes independence between every pair of features in the data. Let (x1, x2, …, xn) be a feature vector and y be the class label corresponding to this feature vector"
      ]
    },
    {
      "cell_type": "code",
      "execution_count": 28,
      "id": "54fd3dc2",
      "metadata": {
        "execution": {
          "iopub.execute_input": "2022-08-14T08:18:54.423447Z",
          "iopub.status.busy": "2022-08-14T08:18:54.422244Z",
          "iopub.status.idle": "2022-08-14T08:18:54.437561Z",
          "shell.execute_reply": "2022-08-14T08:18:54.436122Z"
        },
        "papermill": {
          "duration": 0.033706,
          "end_time": "2022-08-14T08:18:54.440243",
          "exception": false,
          "start_time": "2022-08-14T08:18:54.406537",
          "status": "completed"
        },
        "tags": [],
        "colab": {
          "base_uri": "https://localhost:8080/"
        },
        "id": "54fd3dc2",
        "outputId": "3c4e1a65-d423-422d-8b34-795b28d9cf29"
      },
      "outputs": [
        {
          "output_type": "stream",
          "name": "stdout",
          "text": [
            "0.9025157232704403\n",
            "[[ 64   0  12]\n",
            " [  5 108   2]\n",
            " [  5   7 115]]\n"
          ]
        }
      ],
      "source": [
        "# training a Naive Bayes classifier\n",
        "from sklearn.naive_bayes import GaussianNB\n",
        "gnb = GaussianNB().fit(X_train, y_train)\n",
        "gnb_predictions = gnb.predict(X_test)\n",
        "  \n",
        "# accuracy on X_test\n",
        "accuracy = gnb.score(X_test, y_test)\n",
        "print(accuracy)\n",
        "  \n",
        "# creating a confusion matrix\n",
        "cm = confusion_matrix(y_test, gnb_predictions)\n",
        "print(cm)"
      ]
    }
  ],
  "metadata": {
    "kernelspec": {
      "display_name": "Python 3",
      "language": "python",
      "name": "python3"
    },
    "language_info": {
      "codemirror_mode": {
        "name": "ipython",
        "version": 3
      },
      "file_extension": ".py",
      "mimetype": "text/x-python",
      "name": "python",
      "nbconvert_exporter": "python",
      "pygments_lexer": "ipython3",
      "version": "3.7.12"
    },
    "papermill": {
      "default_parameters": {},
      "duration": 24.981913,
      "end_time": "2022-08-14T08:18:55.940395",
      "environment_variables": {},
      "exception": null,
      "input_path": "__notebook__.ipynb",
      "output_path": "__notebook__.ipynb",
      "parameters": {},
      "start_time": "2022-08-14T08:18:30.958482",
      "version": "2.3.4"
    },
    "colab": {
      "provenance": [],
      "collapsed_sections": [],
      "include_colab_link": true
    }
  },
  "nbformat": 4,
  "nbformat_minor": 5
}